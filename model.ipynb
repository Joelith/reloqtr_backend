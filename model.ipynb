{
 "cells": [
  {
   "cell_type": "code",
   "execution_count": 2,
   "metadata": {},
   "outputs": [],
   "source": [
    "from sklearn.neighbors import NearestNeighbors\n",
    "from pandas import read_hdf"
   ]
  },
  {
   "cell_type": "code",
   "execution_count": 3,
   "metadata": {},
   "outputs": [],
   "source": [
    "model_s = read_hdf('datasets/model_set.h5')"
   ]
  },
  {
   "cell_type": "code",
   "execution_count": 4,
   "metadata": {},
   "outputs": [],
   "source": [
    "all_attr = model_s.columns\n",
    "n_subs = model_s.shape[0]"
   ]
  },
  {
   "cell_type": "code",
   "execution_count": 41,
   "metadata": {},
   "outputs": [],
   "source": [
    "def get_burbs(user, attirbutes=all_attr, df=model_s):\n",
    "    '''\n",
    "    Takes a user feature vector and returns a ranked list of preffered suburbs\n",
    "    The model attributes assessed can be changed by feeding in a more limited list of attributes\n",
    "    '''\n",
    "    X = df[attirbutes[1:]].values # TODO: reduce model or reorder attributes by editing the attirbutes here\n",
    "    Y = df['Suburb'].values\n",
    "    nbrs = NearestNeighbors(n_neighbors=n_subs, algorithm='ball_tree').fit(X)\n",
    "    distances, indices = nbrs.kneighbors([user])\n",
    "    df['score']=100\n",
    "    for i, s in zip(indices, distances):\n",
    "        df['score'].loc[i]=s\n",
    "    return model_s.sort_values(by='score',ascending=True)[['Suburb','score']].values"
   ]
  },
  {
   "cell_type": "code",
   "execution_count": 50,
   "metadata": {},
   "outputs": [
    {
     "name": "stdout",
     "output_type": "stream",
     "text": [
      "[0.58114262 0.55287473 0.08044789 0.76328689 0.82859071 0.68158791\n",
      " 0.23243317 0.40930826 0.4040667  0.31096014 0.99853796 0.72356332\n",
      " 0.65680868 0.66836938 0.01225629]\n",
      "[['CALWELL' 0.9944988760450875]\n",
      " ['WANNIASSA' 1.0780391056895418]\n",
      " ['RICHARDSON' 1.0960144830496066]\n",
      " ['OXLEY' 1.1128930086620827]\n",
      " ['FADDEN' 1.1130508840610636]\n",
      " ['MITCHELL' 1.1153089294658014]\n",
      " ['FARRER' 1.1403969753502428]\n",
      " ['NICHOLLS' 1.2012661452279392]\n",
      " ['TORRENS' 1.201355504202032]\n",
      " ['MONASH' 1.213599541220082]\n",
      " ['KAMBAH' 1.2389585550139908]\n",
      " ['THEODORE' 1.2498648554799598]\n",
      " ['BONNER' 1.2520172940651884]\n",
      " ['FRANKLIN' 1.2538711881385656]\n",
      " [\"O'MALLEY\" 1.264085042720423]\n",
      " ['BONYTHON' 1.2684097064125566]\n",
      " ['CASEY' 1.2792754318015673]\n",
      " ['CHISHOLM' 1.3004503351187071]\n",
      " ['GOWRIE' 1.3004503351187071]\n",
      " ['NGUNNAWAL' 1.330354482205462]\n",
      " ['MAWSON' 1.33998133923187]\n",
      " ['PHILLIP' 1.33998133923187]\n",
      " ['KALEEN' 1.352329617883159]\n",
      " ['GIRALANG' 1.352329617883159]\n",
      " ['AMAROO' 1.3577153686689238]\n",
      " ['WATSON' 1.3623466283194754]\n",
      " ['SPENCE' 1.3712479639447586]\n",
      " ['LYNEHAM' 1.3953121989462196]\n",
      " ['HAWKER' 1.3990629407392217]\n",
      " ['DOWNER' 1.4024802519694497]\n",
      " ['HUME' 1.4057462257151194]\n",
      " ['ISABELLA PLAINS' 1.4107728420471661]\n",
      " ['FISHER' 1.411803837471811]\n",
      " ['PALMERSTON' 1.4254858605129204]\n",
      " ['PEARCE' 1.4290494894315895]\n",
      " ['MACARTHUR' 1.4315401387228242]\n",
      " ['HOLT' 1.4370066133279464]\n",
      " ['HIGGINS' 1.4370066133279464]\n",
      " ['GREENWAY' 1.4449847795156847]\n",
      " ['WEETANGERA' 1.4515735843333846]\n",
      " ['MACQUARIE' 1.4515735843333846]\n",
      " ['HALL' 1.4531451097410084]\n",
      " ['HACKETT' 1.4557808982665619]\n",
      " ['SCULLIN' 1.4574419755254209]\n",
      " ['CAMPBELL' 1.458121426551488]\n",
      " ['WESTON' 1.4603153690038437]\n",
      " ['CURTIN' 1.4612180048690133]\n",
      " ['HARRISON' 1.4655766471013405]\n",
      " ['HUGHES' 1.468369885406556]\n",
      " ['MCKELLAR' 1.4719442052458915]\n",
      " ['FORDE' 1.4743851871064986]\n",
      " ['RED HILL' 1.4765569497539714]\n",
      " ['GILMORE' 1.4790542837013048]\n",
      " ['MOLONGLO' 1.4792495823644514]\n",
      " ['LAWSON' 1.4802646844108103]\n",
      " ['PAGE' 1.4805217448344792]\n",
      " ['ISAACS' 1.4891178870975483]\n",
      " ['BARTON' 1.493555047030443]\n",
      " ['FLYNN' 1.504018068460518]\n",
      " ['FORREST' 1.5073062919142834]\n",
      " ['CRACE' 1.509079483297453]\n",
      " ['MELBA' 1.510735680592157]\n",
      " ['BRUCE' 1.5202609913213536]\n",
      " ['EVATT' 1.525961870704529]\n",
      " ['CHAPMAN' 1.5322107559345657]\n",
      " ['DUNLOP' 1.5562247864579093]\n",
      " ['STIRLING' 1.5581148742417479]\n",
      " ['LATHAM' 1.5626580641089658]\n",
      " ['FLOREY' 1.5696034673783688]\n",
      " ['DEAKIN' 1.5735172634286883]\n",
      " ['KINGSTON' 1.5778422658624178]\n",
      " ['COOK' 1.5821292231902717]\n",
      " ['CONDER' 1.5926776041957453]\n",
      " ['CHIFLEY' 1.599433827866638]\n",
      " ['WARAMANGA' 1.599433827866638]\n",
      " ['NARRABUNDAH' 1.600451346024525]\n",
      " ['YARRALUMLA' 1.6005891929167524]\n",
      " ['AINSLIE' 1.6076282161563409]\n",
      " [\"O'CONNOR\" 1.6179056773352551]\n",
      " ['RIVETT' 1.6393822586992484]\n",
      " ['LYONS' 1.6479618408395857]\n",
      " ['DICKSON' 1.652945221415085]\n",
      " ['HOLDER' 1.6551175566265202]\n",
      " ['ARANDA' 1.6553915755807198]\n",
      " ['GRIFFITH' 1.6577614451303107]\n",
      " ['MACGREGOR' 1.6609752825124726]\n",
      " ['FRASER' 1.666398235458443]\n",
      " ['GARRAN' 1.6857252726092822]\n",
      " ['DUFFY' 1.689612210468594]\n",
      " ['CHARNWOOD' 1.7096553900465532]\n",
      " ['TURNER' 1.7461066446829188]\n",
      " ['GORDON' 1.7524313253686292]\n",
      " ['BANKS' 1.7524313253686292]\n",
      " ['BELCONNEN' 1.7946611980196963]\n",
      " ['ACTON' 1.82597081023379]\n",
      " ['BRADDON' 1.8421811531769983]\n",
      " ['PARKES' 1.8883758942700355]\n",
      " ['REID' 1.9215874598005063]]\n"
     ]
    },
    {
     "name": "stderr",
     "output_type": "stream",
     "text": [
      "/anaconda3/envs/govhack/lib/python3.6/site-packages/pandas/core/indexing.py:189: SettingWithCopyWarning: \n",
      "A value is trying to be set on a copy of a slice from a DataFrame\n",
      "\n",
      "See the caveats in the documentation: http://pandas.pydata.org/pandas-docs/stable/indexing.html#indexing-view-versus-copy\n",
      "  self._setitem_with_indexer(indexer, value)\n"
     ]
    }
   ],
   "source": [
    "### UT\n",
    "from numpy import random\n",
    "test_user = random.uniform(low=0,high=1,size=len(all_attr)-1)\n",
    "print(test_user)\n",
    "print(get_burbs(test_user))"
   ]
  },
  {
   "cell_type": "code",
   "execution_count": null,
   "metadata": {},
   "outputs": [],
   "source": []
  }
 ],
 "metadata": {
  "kernelspec": {
   "display_name": "govhack",
   "language": "python",
   "name": "govhack"
  },
  "language_info": {
   "codemirror_mode": {
    "name": "ipython",
    "version": 3
   },
   "file_extension": ".py",
   "mimetype": "text/x-python",
   "name": "python",
   "nbconvert_exporter": "python",
   "pygments_lexer": "ipython3",
   "version": "3.6.6"
  }
 },
 "nbformat": 4,
 "nbformat_minor": 2
}
